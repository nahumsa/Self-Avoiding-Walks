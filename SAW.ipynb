{
  "nbformat": 4,
  "nbformat_minor": 0,
  "metadata": {
    "colab": {
      "name": "SAW.ipynb",
      "provenance": [],
      "collapsed_sections": [
        "QdwtqfHCCJ2F",
        "kVQY2qG4G9iS"
      ],
      "authorship_tag": "ABX9TyPckxzQTU2xXZlgw/5S18K5",
      "include_colab_link": true
    },
    "kernelspec": {
      "name": "python3",
      "display_name": "Python 3"
    },
    "widgets": {
      "application/vnd.jupyter.widget-state+json": {
        "8d057a4867c14d969efc744bc6b014f6": {
          "model_module": "@jupyter-widgets/controls",
          "model_name": "HBoxModel",
          "state": {
            "_view_name": "HBoxView",
            "_dom_classes": [],
            "_model_name": "HBoxModel",
            "_view_module": "@jupyter-widgets/controls",
            "_model_module_version": "1.5.0",
            "_view_count": null,
            "_view_module_version": "1.5.0",
            "box_style": "",
            "layout": "IPY_MODEL_221e6c5680c04d80ac93aa53f70a748e",
            "_model_module": "@jupyter-widgets/controls",
            "children": [
              "IPY_MODEL_e9a8e7b97f054c398c1cfaea4638ca47",
              "IPY_MODEL_4b86bb2f20fb41e0923a879531c2381c"
            ]
          }
        },
        "221e6c5680c04d80ac93aa53f70a748e": {
          "model_module": "@jupyter-widgets/base",
          "model_name": "LayoutModel",
          "state": {
            "_view_name": "LayoutView",
            "grid_template_rows": null,
            "right": null,
            "justify_content": null,
            "_view_module": "@jupyter-widgets/base",
            "overflow": null,
            "_model_module_version": "1.2.0",
            "_view_count": null,
            "flex_flow": null,
            "width": null,
            "min_width": null,
            "border": null,
            "align_items": null,
            "bottom": null,
            "_model_module": "@jupyter-widgets/base",
            "top": null,
            "grid_column": null,
            "overflow_y": null,
            "overflow_x": null,
            "grid_auto_flow": null,
            "grid_area": null,
            "grid_template_columns": null,
            "flex": null,
            "_model_name": "LayoutModel",
            "justify_items": null,
            "grid_row": null,
            "max_height": null,
            "align_content": null,
            "visibility": null,
            "align_self": null,
            "height": null,
            "min_height": null,
            "padding": null,
            "grid_auto_rows": null,
            "grid_gap": null,
            "max_width": null,
            "order": null,
            "_view_module_version": "1.2.0",
            "grid_template_areas": null,
            "object_position": null,
            "object_fit": null,
            "grid_auto_columns": null,
            "margin": null,
            "display": null,
            "left": null
          }
        },
        "e9a8e7b97f054c398c1cfaea4638ca47": {
          "model_module": "@jupyter-widgets/controls",
          "model_name": "FloatProgressModel",
          "state": {
            "_view_name": "ProgressView",
            "style": "IPY_MODEL_bfa8e9f5b69a495c9c98965480fee9b1",
            "_dom_classes": [],
            "description": "100%",
            "_model_name": "FloatProgressModel",
            "bar_style": "success",
            "max": 10000000,
            "_view_module": "@jupyter-widgets/controls",
            "_model_module_version": "1.5.0",
            "value": 10000000,
            "_view_count": null,
            "_view_module_version": "1.5.0",
            "orientation": "horizontal",
            "min": 0,
            "description_tooltip": null,
            "_model_module": "@jupyter-widgets/controls",
            "layout": "IPY_MODEL_fceb0a3d73134a1888803bfd564f0c4a"
          }
        },
        "4b86bb2f20fb41e0923a879531c2381c": {
          "model_module": "@jupyter-widgets/controls",
          "model_name": "HTMLModel",
          "state": {
            "_view_name": "HTMLView",
            "style": "IPY_MODEL_ee1bb49da7c041c4857cb668e62d4326",
            "_dom_classes": [],
            "description": "",
            "_model_name": "HTMLModel",
            "placeholder": "​",
            "_view_module": "@jupyter-widgets/controls",
            "_model_module_version": "1.5.0",
            "value": " 10000000/10000000 [1:23:16&lt;00:00, 2001.24it/s]",
            "_view_count": null,
            "_view_module_version": "1.5.0",
            "description_tooltip": null,
            "_model_module": "@jupyter-widgets/controls",
            "layout": "IPY_MODEL_bcf844a4501e429a81890bb8248e5153"
          }
        },
        "bfa8e9f5b69a495c9c98965480fee9b1": {
          "model_module": "@jupyter-widgets/controls",
          "model_name": "ProgressStyleModel",
          "state": {
            "_view_name": "StyleView",
            "_model_name": "ProgressStyleModel",
            "description_width": "initial",
            "_view_module": "@jupyter-widgets/base",
            "_model_module_version": "1.5.0",
            "_view_count": null,
            "_view_module_version": "1.2.0",
            "bar_color": null,
            "_model_module": "@jupyter-widgets/controls"
          }
        },
        "fceb0a3d73134a1888803bfd564f0c4a": {
          "model_module": "@jupyter-widgets/base",
          "model_name": "LayoutModel",
          "state": {
            "_view_name": "LayoutView",
            "grid_template_rows": null,
            "right": null,
            "justify_content": null,
            "_view_module": "@jupyter-widgets/base",
            "overflow": null,
            "_model_module_version": "1.2.0",
            "_view_count": null,
            "flex_flow": null,
            "width": null,
            "min_width": null,
            "border": null,
            "align_items": null,
            "bottom": null,
            "_model_module": "@jupyter-widgets/base",
            "top": null,
            "grid_column": null,
            "overflow_y": null,
            "overflow_x": null,
            "grid_auto_flow": null,
            "grid_area": null,
            "grid_template_columns": null,
            "flex": null,
            "_model_name": "LayoutModel",
            "justify_items": null,
            "grid_row": null,
            "max_height": null,
            "align_content": null,
            "visibility": null,
            "align_self": null,
            "height": null,
            "min_height": null,
            "padding": null,
            "grid_auto_rows": null,
            "grid_gap": null,
            "max_width": null,
            "order": null,
            "_view_module_version": "1.2.0",
            "grid_template_areas": null,
            "object_position": null,
            "object_fit": null,
            "grid_auto_columns": null,
            "margin": null,
            "display": null,
            "left": null
          }
        },
        "ee1bb49da7c041c4857cb668e62d4326": {
          "model_module": "@jupyter-widgets/controls",
          "model_name": "DescriptionStyleModel",
          "state": {
            "_view_name": "StyleView",
            "_model_name": "DescriptionStyleModel",
            "description_width": "",
            "_view_module": "@jupyter-widgets/base",
            "_model_module_version": "1.5.0",
            "_view_count": null,
            "_view_module_version": "1.2.0",
            "_model_module": "@jupyter-widgets/controls"
          }
        },
        "bcf844a4501e429a81890bb8248e5153": {
          "model_module": "@jupyter-widgets/base",
          "model_name": "LayoutModel",
          "state": {
            "_view_name": "LayoutView",
            "grid_template_rows": null,
            "right": null,
            "justify_content": null,
            "_view_module": "@jupyter-widgets/base",
            "overflow": null,
            "_model_module_version": "1.2.0",
            "_view_count": null,
            "flex_flow": null,
            "width": null,
            "min_width": null,
            "border": null,
            "align_items": null,
            "bottom": null,
            "_model_module": "@jupyter-widgets/base",
            "top": null,
            "grid_column": null,
            "overflow_y": null,
            "overflow_x": null,
            "grid_auto_flow": null,
            "grid_area": null,
            "grid_template_columns": null,
            "flex": null,
            "_model_name": "LayoutModel",
            "justify_items": null,
            "grid_row": null,
            "max_height": null,
            "align_content": null,
            "visibility": null,
            "align_self": null,
            "height": null,
            "min_height": null,
            "padding": null,
            "grid_auto_rows": null,
            "grid_gap": null,
            "max_width": null,
            "order": null,
            "_view_module_version": "1.2.0",
            "grid_template_areas": null,
            "object_position": null,
            "object_fit": null,
            "grid_auto_columns": null,
            "margin": null,
            "display": null,
            "left": null
          }
        },
        "f470322c9d4e41c08e9478b0135bcfe6": {
          "model_module": "@jupyter-widgets/controls",
          "model_name": "HBoxModel",
          "state": {
            "_view_name": "HBoxView",
            "_dom_classes": [],
            "_model_name": "HBoxModel",
            "_view_module": "@jupyter-widgets/controls",
            "_model_module_version": "1.5.0",
            "_view_count": null,
            "_view_module_version": "1.5.0",
            "box_style": "",
            "layout": "IPY_MODEL_28fa3393e1e14ddea0cfb71401ed95ee",
            "_model_module": "@jupyter-widgets/controls",
            "children": [
              "IPY_MODEL_fbcd157d076c4051919089dce7b3bae2",
              "IPY_MODEL_56b834a0ef664e6fadcaed8c5b160a0a"
            ]
          }
        },
        "28fa3393e1e14ddea0cfb71401ed95ee": {
          "model_module": "@jupyter-widgets/base",
          "model_name": "LayoutModel",
          "state": {
            "_view_name": "LayoutView",
            "grid_template_rows": null,
            "right": null,
            "justify_content": null,
            "_view_module": "@jupyter-widgets/base",
            "overflow": null,
            "_model_module_version": "1.2.0",
            "_view_count": null,
            "flex_flow": null,
            "width": null,
            "min_width": null,
            "border": null,
            "align_items": null,
            "bottom": null,
            "_model_module": "@jupyter-widgets/base",
            "top": null,
            "grid_column": null,
            "overflow_y": null,
            "overflow_x": null,
            "grid_auto_flow": null,
            "grid_area": null,
            "grid_template_columns": null,
            "flex": null,
            "_model_name": "LayoutModel",
            "justify_items": null,
            "grid_row": null,
            "max_height": null,
            "align_content": null,
            "visibility": null,
            "align_self": null,
            "height": null,
            "min_height": null,
            "padding": null,
            "grid_auto_rows": null,
            "grid_gap": null,
            "max_width": null,
            "order": null,
            "_view_module_version": "1.2.0",
            "grid_template_areas": null,
            "object_position": null,
            "object_fit": null,
            "grid_auto_columns": null,
            "margin": null,
            "display": null,
            "left": null
          }
        },
        "fbcd157d076c4051919089dce7b3bae2": {
          "model_module": "@jupyter-widgets/controls",
          "model_name": "FloatProgressModel",
          "state": {
            "_view_name": "ProgressView",
            "style": "IPY_MODEL_d281bae16e484f799af5e3786bbd0b1d",
            "_dom_classes": [],
            "description": "100%",
            "_model_name": "FloatProgressModel",
            "bar_style": "success",
            "max": 1000000,
            "_view_module": "@jupyter-widgets/controls",
            "_model_module_version": "1.5.0",
            "value": 1000000,
            "_view_count": null,
            "_view_module_version": "1.5.0",
            "orientation": "horizontal",
            "min": 0,
            "description_tooltip": null,
            "_model_module": "@jupyter-widgets/controls",
            "layout": "IPY_MODEL_0ad6260b04df4183b273fdf671c361c2"
          }
        },
        "56b834a0ef664e6fadcaed8c5b160a0a": {
          "model_module": "@jupyter-widgets/controls",
          "model_name": "HTMLModel",
          "state": {
            "_view_name": "HTMLView",
            "style": "IPY_MODEL_bfdbd6479bde4f55b517bd61b5c9c433",
            "_dom_classes": [],
            "description": "",
            "_model_name": "HTMLModel",
            "placeholder": "​",
            "_view_module": "@jupyter-widgets/controls",
            "_model_module_version": "1.5.0",
            "value": " 1000000/1000000 [06:51&lt;00:00, 2432.78it/s]",
            "_view_count": null,
            "_view_module_version": "1.5.0",
            "description_tooltip": null,
            "_model_module": "@jupyter-widgets/controls",
            "layout": "IPY_MODEL_39606821f29c492b9790c4200afcab66"
          }
        },
        "d281bae16e484f799af5e3786bbd0b1d": {
          "model_module": "@jupyter-widgets/controls",
          "model_name": "ProgressStyleModel",
          "state": {
            "_view_name": "StyleView",
            "_model_name": "ProgressStyleModel",
            "description_width": "initial",
            "_view_module": "@jupyter-widgets/base",
            "_model_module_version": "1.5.0",
            "_view_count": null,
            "_view_module_version": "1.2.0",
            "bar_color": null,
            "_model_module": "@jupyter-widgets/controls"
          }
        },
        "0ad6260b04df4183b273fdf671c361c2": {
          "model_module": "@jupyter-widgets/base",
          "model_name": "LayoutModel",
          "state": {
            "_view_name": "LayoutView",
            "grid_template_rows": null,
            "right": null,
            "justify_content": null,
            "_view_module": "@jupyter-widgets/base",
            "overflow": null,
            "_model_module_version": "1.2.0",
            "_view_count": null,
            "flex_flow": null,
            "width": null,
            "min_width": null,
            "border": null,
            "align_items": null,
            "bottom": null,
            "_model_module": "@jupyter-widgets/base",
            "top": null,
            "grid_column": null,
            "overflow_y": null,
            "overflow_x": null,
            "grid_auto_flow": null,
            "grid_area": null,
            "grid_template_columns": null,
            "flex": null,
            "_model_name": "LayoutModel",
            "justify_items": null,
            "grid_row": null,
            "max_height": null,
            "align_content": null,
            "visibility": null,
            "align_self": null,
            "height": null,
            "min_height": null,
            "padding": null,
            "grid_auto_rows": null,
            "grid_gap": null,
            "max_width": null,
            "order": null,
            "_view_module_version": "1.2.0",
            "grid_template_areas": null,
            "object_position": null,
            "object_fit": null,
            "grid_auto_columns": null,
            "margin": null,
            "display": null,
            "left": null
          }
        },
        "bfdbd6479bde4f55b517bd61b5c9c433": {
          "model_module": "@jupyter-widgets/controls",
          "model_name": "DescriptionStyleModel",
          "state": {
            "_view_name": "StyleView",
            "_model_name": "DescriptionStyleModel",
            "description_width": "",
            "_view_module": "@jupyter-widgets/base",
            "_model_module_version": "1.5.0",
            "_view_count": null,
            "_view_module_version": "1.2.0",
            "_model_module": "@jupyter-widgets/controls"
          }
        },
        "39606821f29c492b9790c4200afcab66": {
          "model_module": "@jupyter-widgets/base",
          "model_name": "LayoutModel",
          "state": {
            "_view_name": "LayoutView",
            "grid_template_rows": null,
            "right": null,
            "justify_content": null,
            "_view_module": "@jupyter-widgets/base",
            "overflow": null,
            "_model_module_version": "1.2.0",
            "_view_count": null,
            "flex_flow": null,
            "width": null,
            "min_width": null,
            "border": null,
            "align_items": null,
            "bottom": null,
            "_model_module": "@jupyter-widgets/base",
            "top": null,
            "grid_column": null,
            "overflow_y": null,
            "overflow_x": null,
            "grid_auto_flow": null,
            "grid_area": null,
            "grid_template_columns": null,
            "flex": null,
            "_model_name": "LayoutModel",
            "justify_items": null,
            "grid_row": null,
            "max_height": null,
            "align_content": null,
            "visibility": null,
            "align_self": null,
            "height": null,
            "min_height": null,
            "padding": null,
            "grid_auto_rows": null,
            "grid_gap": null,
            "max_width": null,
            "order": null,
            "_view_module_version": "1.2.0",
            "grid_template_areas": null,
            "object_position": null,
            "object_fit": null,
            "grid_auto_columns": null,
            "margin": null,
            "display": null,
            "left": null
          }
        }
      }
    }
  },
  "cells": [
    {
      "cell_type": "markdown",
      "metadata": {
        "id": "view-in-github",
        "colab_type": "text"
      },
      "source": [
        "<a href=\"https://colab.research.google.com/github/nahumsa/Self-Avoiding-Walks/blob/master/SAW.ipynb\" target=\"_parent\"><img src=\"https://colab.research.google.com/assets/colab-badge.svg\" alt=\"Open In Colab\"/></a>"
      ]
    },
    {
      "cell_type": "markdown",
      "metadata": {
        "id": "NilSYamQwc-6",
        "colab_type": "text"
      },
      "source": [
        "# Self-Avoiding Walks"
      ]
    },
    {
      "cell_type": "code",
      "metadata": {
        "id": "v8cJqcc4wi9i",
        "colab_type": "code",
        "colab": {}
      },
      "source": [
        "import numpy as np\n",
        "import matplotlib.pyplot as plt"
      ],
      "execution_count": 2,
      "outputs": []
    },
    {
      "cell_type": "markdown",
      "metadata": {
        "id": "caK_jUiI8zT8",
        "colab_type": "text"
      },
      "source": [
        "# 1) Counting Self-Avoiding Walks"
      ]
    },
    {
      "cell_type": "code",
      "metadata": {
        "id": "l39S53w4E6kB",
        "colab_type": "code",
        "colab": {}
      },
      "source": [
        "class SAW():\n",
        "\n",
        "  def __init__(self,N, initial_x=0, initial_y=0):\n",
        "    self.grid = self._grid(N)\n",
        "    self.k = []\n",
        "\n",
        "    # Initial Value\n",
        "    self.x = [initial_x]\n",
        "    self.y = [initial_y]\n",
        "    \n",
        "    \n",
        "    self.n_walks = self._evolution()    \n",
        "\n",
        "  def _evolution(self, plot=False, debug=False):\n",
        "    \"\"\" Makes the evolution of the SAW.\n",
        "\n",
        "    Parameters \n",
        "    -----------------------------------\n",
        "    plot (bool): True if you want to plot. (default=False)\n",
        "    debug (bool): True if you want to debug. (default=False)\n",
        "\n",
        "\n",
        "    Outputs\n",
        "    -----------------------------------\n",
        "    (int): number of steps. \n",
        "\n",
        "\n",
        "    \"\"\"\n",
        "    # Set initial values    \n",
        "    initial = (self.x[0],self.y[0])\n",
        "    n_steps = 0\n",
        "    colide = False\n",
        "\n",
        "    # Do the first walk    \n",
        "    possible_walks,possible_values = self._check_walks(self.grid,*initial)  \n",
        "    \n",
        "    # Log possible walks\n",
        "    self.k.append(len(possible_walks))  \n",
        "    \n",
        "    direction = self._choose_uniformly(possible_walks)    \n",
        "    i,j = self._walk(self.grid, *initial, direction, debug=debug)\n",
        "    self.x.append(i)\n",
        "    self.y.append(j)\n",
        "    \n",
        "    n_steps += 1\n",
        "    \n",
        "\n",
        "    while not colide:\n",
        "      possible_walks, possible_values = self._check_walks(self.grid, i, j)\n",
        "      \n",
        "      # Log possible walks\n",
        "      self.k.append(len(possible_walks))  \n",
        "\n",
        "      # Check if there is no possible ways to walk \n",
        "      # if this is the case then the walker colided and it is terminated\n",
        "      \n",
        "      if len(possible_walks) == 0:\n",
        "        colide = True\n",
        "        \n",
        "        # Exclude last value because it is 0\n",
        "        self.k.pop(-1)\n",
        "        \n",
        "        break\n",
        "\n",
        "      direction = self._choose_uniformly(possible_walks)    \n",
        "      i,j = self._walk(self.grid, i, j, direction, debug=debug)      \n",
        "      self.x.append(i)\n",
        "      self.y.append(j)\n",
        "      \n",
        "      n_steps += 1            \n",
        "      \n",
        "      if plot:\n",
        "        plt.imshow(self.grid)\n",
        "        plt.show()\n",
        "    \n",
        "    return n_steps\n",
        "\n",
        "  @property\n",
        "  def number_of_walks(self):\n",
        "    \"\"\" Returns the number of walks of the walker.\n",
        "\n",
        "    \"\"\"\n",
        "    return self.n_walks  \n",
        "\n",
        "  @property\n",
        "  def trial_probability(self):\n",
        "    \"\"\" Return the log of possible walks.\n",
        "\n",
        "    \"\"\"\n",
        "    g = (1/np.array(self.k)).cumprod()\n",
        "    return g[-1]\n",
        "\n",
        "  def _grid(self, N: int):\n",
        "    \"\"\" Creates a NxN grid.\n",
        "\n",
        "    Parameters \n",
        "    -----------------------------------\n",
        "\n",
        "    N (int): Lenght of the size of the grid.\n",
        "\n",
        "\n",
        "    Outputs\n",
        "    -----------------------------------\n",
        "    (np.array): NxN grid\n",
        "\n",
        "\n",
        "    \"\"\"\n",
        "    return np.zeros((N,N))\n",
        "\n",
        "  def _choose_uniformly(self, x: list):\n",
        "    \"\"\" Chooses uniformly a random value from an array.\n",
        "\n",
        "    Parameters\n",
        "    -----------------------------------\n",
        "    x (array): Array that you want to choose a value uniformly.\n",
        "\n",
        "\n",
        "    Output\n",
        "    -------------------------------------\n",
        "    (int or float): Value chosen from the array.\n",
        "\n",
        "    \"\"\"\n",
        "    n = len(x)\n",
        "    index = 0\n",
        "    if n > 1:\n",
        "      index = np.random.randint(0,high=n)     \n",
        "    return x[index]\n",
        "\n",
        "  def _walk(self, matrix: np.array\n",
        "               ,i: int,j: int\n",
        "               ,direction: int, debug=False):\n",
        "    \"\"\" Walk on the grid, here we put a value for the direction:\n",
        "        1: Left\n",
        "        2: Right\n",
        "        3: Up\n",
        "        4: Down\n",
        "    \n",
        "\n",
        "    Parameters\n",
        "    -----------------------------------\n",
        "    matrix (np.array): Grid that you wand to walk.\n",
        "    i (int): Y index of the array.\n",
        "    j (int): X index of the array.\n",
        "    direction (int): Direction of the step.\n",
        "    debug (boolean): True if you want to debug the function.\n",
        "                     (Default=False).    \n",
        "\n",
        "    \"\"\"\n",
        "    # Check if it passes the lenght of the array\n",
        "    if i == len(matrix) or j == len(matrix):\n",
        "      print('Error')\n",
        "      return None, None\n",
        "    \n",
        "    # Check if it is going left\n",
        "    elif direction == 1:\n",
        "      if debug:\n",
        "        print('Left')\n",
        "      matrix[i,j] = direction\n",
        "      return i,j-1\n",
        "    \n",
        "    # Check if it is going right\n",
        "    elif direction == 2:\n",
        "      if debug:\n",
        "        print('Right')\n",
        "      matrix[i, j] = direction\n",
        "      return i,j+1\n",
        "    \n",
        "    # Check if it is going up\n",
        "    elif direction == 3:\n",
        "      if debug:\n",
        "        print('Up')\n",
        "      matrix[i, j] = direction\n",
        "      return i-1,j\n",
        "\n",
        "    # Check if it is going down\n",
        "    elif direction == 4:\n",
        "      if debug:\n",
        "        print('Down')\n",
        "      matrix[i, j] = direction\n",
        "      return i+1,j\n",
        "\n",
        "  def _check_walks(self, matrix,i,j):\n",
        "    \"\"\" Check possible walks on position i,j.\n",
        "    \n",
        "\n",
        "    Parameters\n",
        "    -----------------------------------\n",
        "    matrix (np.array): Grid that you wand to walk.\n",
        "    i (int): Y index of the array.\n",
        "    j (int): X index of the array.\n",
        "    \n",
        "    Output\n",
        "    -----------------------------------\n",
        "    (dict): Dictionary with possible walks, keys are directions\n",
        "            1,2,3,4 and values are indices associated with each\n",
        "            direction.\n",
        "\n",
        "    \"\"\"\n",
        "    possible_walks = {1:(i,j-1), \n",
        "                      2:(i,j+1), \n",
        "                      3:(i-1,j), \n",
        "                      4:(i+1,j)}\n",
        "    # Create a list for all directions that are not possible\n",
        "    impossible_walks = []\n",
        "\n",
        "    # See impossible walks\n",
        "    for key, indexes in zip(possible_walks,possible_walks.values()):\n",
        "      try:\n",
        "        if matrix[indexes] != 0 or indexes[0] < 0 or indexes[1] < 0:\n",
        "          impossible_walks.append(key)\n",
        "      except:\n",
        "        impossible_walks.append(key)\n",
        "\n",
        "    # Delete from the dict all impossible walks\n",
        "    for delete in impossible_walks:\n",
        "      possible_walks.pop(delete)\n",
        "    \n",
        "    # Return all possible walks and all indices\n",
        "    return list(possible_walks.keys()), list(possible_walks.values())\n",
        "\n",
        "from tqdm.notebook import tqdm\n",
        "\n",
        "\n",
        "def SAW_montecarlo(N: int,\n",
        "                   samples: int,\n",
        "                   verbose=True):\n",
        "  \n",
        "  assert type(samples) == int, \"Number of samples must be int.\"\n",
        "  \n",
        "  samples = int(samples)\n",
        "  \n",
        "  number_steps = []\n",
        "  trial_prob = []\n",
        "  data = {}\n",
        "  if verbose:\n",
        "    range_samples = tqdm(range(int(samples)))\n",
        "  \n",
        "  else:\n",
        "    range_samples = range(int(samples))\n",
        "\n",
        "  for _ in range_samples:\n",
        "    saw = SAW(N)\n",
        "    number_steps.append(saw.number_of_walks)\n",
        "    trial_prob.append(saw.trial_probability)    \n",
        "    data.update({saw.number_of_walks: 1/saw.trial_probability})\n",
        "  \n",
        "  # Transforms into np.array\n",
        "  trial_prob = np.array(trial_prob)\n",
        "  number_steps = np.array(number_steps)\n",
        "\n",
        "  \n",
        "  \n",
        "  return number_steps, trial_prob, data"
      ],
      "execution_count": 60,
      "outputs": []
    },
    {
      "cell_type": "code",
      "metadata": {
        "id": "b1K6JJqiFpMD",
        "colab_type": "code",
        "colab": {
          "base_uri": "https://localhost:8080/",
          "height": 66,
          "referenced_widgets": [
            "8d057a4867c14d969efc744bc6b014f6",
            "221e6c5680c04d80ac93aa53f70a748e",
            "e9a8e7b97f054c398c1cfaea4638ca47",
            "4b86bb2f20fb41e0923a879531c2381c",
            "bfa8e9f5b69a495c9c98965480fee9b1",
            "fceb0a3d73134a1888803bfd564f0c4a",
            "ee1bb49da7c041c4857cb668e62d4326",
            "bcf844a4501e429a81890bb8248e5153"
          ]
        },
        "outputId": "4f212600-7844-49af-e1f1-40d08b382f35"
      },
      "source": [
        "n_samples = 10000000\n",
        "n_lenght = 10\n",
        "\n",
        "n_steps, t_prob, data = SAW_montecarlo(n_lenght, n_samples)"
      ],
      "execution_count": 67,
      "outputs": [
        {
          "output_type": "display_data",
          "data": {
            "application/vnd.jupyter.widget-view+json": {
              "model_id": "8d057a4867c14d969efc744bc6b014f6",
              "version_minor": 0,
              "version_major": 2
            },
            "text/plain": [
              "HBox(children=(FloatProgress(value=0.0, max=10000000.0), HTML(value='')))"
            ]
          },
          "metadata": {
            "tags": []
          }
        },
        {
          "output_type": "stream",
          "text": [
            "\n"
          ],
          "name": "stdout"
        }
      ]
    },
    {
      "cell_type": "code",
      "metadata": {
        "id": "RvIIThQAiJmr",
        "colab_type": "code",
        "colab": {
          "base_uri": "https://localhost:8080/",
          "height": 52
        },
        "outputId": "941e7780-0216-4112-fe11-f0313535ad02"
      },
      "source": [
        "aux_t = []\n",
        "\n",
        "a = 0\n",
        "\n",
        "for i in range(max(n_steps)+1):\n",
        "  if np.sum(n_steps==i) != 0:\n",
        "    aux_t.append(np.sum(1/t_prob[n_steps == i])/np.sum(n_steps==i))\n",
        "\n",
        "  else:\n",
        "    aux_t.append(0.)\n",
        "  a += np.sum(n_steps==i)\n",
        "\n",
        "# Convert nan to number\n",
        "aux_t = np.nan_to_num(aux_t) \n",
        "print(f\"Did I count all samples? {a == n_samples}\")\n",
        "print(f\"Estimated number of SAWs: {np.sum(aux_t)}\")"
      ],
      "execution_count": 90,
      "outputs": [
        {
          "output_type": "stream",
          "text": [
            "Did I count all samples? True\n",
            "Estimated number of SAWs: 3.4593673416375267e+24\n"
          ],
          "name": "stdout"
        }
      ]
    },
    {
      "cell_type": "code",
      "metadata": {
        "id": "xcjahua47LP_",
        "colab_type": "code",
        "colab": {}
      },
      "source": [
        "import seaborn as sns"
      ],
      "execution_count": null,
      "outputs": []
    },
    {
      "cell_type": "code",
      "metadata": {
        "id": "XiCP8T1Di2vf",
        "colab_type": "code",
        "colab": {
          "base_uri": "https://localhost:8080/",
          "height": 305
        },
        "outputId": "cb4464f3-b83b-4d5e-dada-4f14f4d1a412"
      },
      "source": [
        "plt.plot(aux_t)\n",
        "plt.title('SAW', size=20)\n",
        "plt.xlabel('Lenght', size=16)\n",
        "plt.ylabel('Counts', size=16)\n",
        "plt.show()"
      ],
      "execution_count": 96,
      "outputs": [
        {
          "output_type": "display_data",
          "data": {
            "image/png": "[encoded data removed]",
            "text/plain": [
              "<Figure size 432x288 with 1 Axes>"
            ]
          },
          "metadata": {
            "tags": [],
            "needs_background": "light"
          }
        }
      ]
    },
    {
      "cell_type": "code",
      "metadata": {
        "id": "A_7_DeR27a35",
        "colab_type": "code",
        "colab": {}
      },
      "source": [
        "np.savetxt('SAW1.txt', aux_t)"
      ],
      "execution_count": 104,
      "outputs": []
    },
    {
      "cell_type": "markdown",
      "metadata": {
        "id": "LW8nW2jD8DDF",
        "colab_type": "text"
      },
      "source": [
        ""
      ]
    },
    {
      "cell_type": "markdown",
      "metadata": {
        "id": "QdwtqfHCCJ2F",
        "colab_type": "text"
      },
      "source": [
        "## 1.2) Early Termination"
      ]
    },
    {
      "cell_type": "code",
      "metadata": {
        "id": "5r8RfHJqCQMo",
        "colab_type": "code",
        "colab": {}
      },
      "source": [
        "class SAWEarly(SAW):\n",
        "  def __init__(self,N, initial_x=0, initial_y=0, terminate_probability=0.1):\n",
        "    \n",
        "    self.terminate_probability = terminate_probability\n",
        "    super(SAWEarly, self).__init__(N,initial_x,initial_y)\n",
        "        \n",
        "\n",
        "  def _evolution(self, plot=False, debug=False):\n",
        "    \"\"\" Makes the evolution of the SAW.\n",
        "\n",
        "    Parameters \n",
        "    -----------------------------------\n",
        "    plot (bool): True if you want to plot. (default=False)\n",
        "    debug (bool): True if you want to debug. (default=False)\n",
        "\n",
        "\n",
        "    Outputs\n",
        "    -----------------------------------\n",
        "    (int): number of steps. \n",
        "\n",
        "\n",
        "    \"\"\"\n",
        "    # Set initial values    \n",
        "    initial = (self.x[0],self.y[0])\n",
        "    n_steps = 0\n",
        "    colide = False\n",
        "\n",
        "    # Do the first walk    \n",
        "    possible_walks,possible_values = self._check_walks(self.grid,*initial)  \n",
        "    \n",
        "\n",
        "    # Log possible walks\n",
        "    self.k.append(len(possible_walks))  \n",
        "    \n",
        "    if np.random.uniform() < self.terminate_probability:\n",
        "      colide = True\n",
        "\n",
        "    direction = self._choose_uniformly(possible_walks)    \n",
        "    i,j = self._walk(self.grid, *initial, direction, debug=debug)\n",
        "    self.x.append(i)\n",
        "    self.y.append(j)\n",
        "    \n",
        "    n_steps += 1\n",
        "    \n",
        "\n",
        "    while not colide:\n",
        "      possible_walks, possible_values = self._check_walks(self.grid, i, j)\n",
        "      \n",
        "      # Log possible walks\n",
        "      self.k.append(len(possible_walks))  \n",
        "\n",
        "      # Check if there is no possible ways to walk \n",
        "      # if this is the case then the walker colided and it is terminated\n",
        "      if np.random.uniform() < self.terminate_probability:\n",
        "        \n",
        "        colide = True\n",
        "        if len(possible_walks) == 0:\n",
        "          self.k.pop(-1)    \n",
        "        break\n",
        "\n",
        "      if len(possible_walks) == 0:\n",
        "        colide = True\n",
        "        \n",
        "        # Exclude last value because it is 0\n",
        "        self.k.pop(-1)\n",
        "        \n",
        "        break\n",
        "\n",
        "      direction = self._choose_uniformly(possible_walks)    \n",
        "      i,j = self._walk(self.grid, i, j, direction, debug=debug)      \n",
        "      self.x.append(i)\n",
        "      self.y.append(j)\n",
        "      \n",
        "      n_steps += 1            \n",
        "      \n",
        "      if plot:\n",
        "        plt.imshow(self.grid)\n",
        "        plt.show()\n",
        "    \n",
        "    return n_steps\n",
        "\n",
        "def SAWEarly_montecarlo(N: int,\n",
        "                        samples: int,\n",
        "                        verbose=True):\n",
        "  \n",
        "  assert type(samples) == int, \"Number of samples must be int.\"\n",
        "  \n",
        "  samples = int(samples)\n",
        "  \n",
        "  number_steps = []\n",
        "  trial_prob = []\n",
        "  data = {}\n",
        "  if verbose:\n",
        "    range_samples = tqdm(range(int(samples)))\n",
        "  \n",
        "  else:\n",
        "    range_samples = range(int(samples))\n",
        "\n",
        "  for _ in range_samples:\n",
        "    saw = SAWEarly(N)\n",
        "    number_steps.append(saw.number_of_walks)\n",
        "    trial_prob.append(saw.trial_probability)    \n",
        "    data.update({saw.number_of_walks: 1/saw.trial_probability})\n",
        "  \n",
        "  # Transforms into np.array\n",
        "  trial_prob = np.array(trial_prob)\n",
        "  number_steps = np.array(number_steps)\n",
        "\n",
        "  \n",
        "  \n",
        "  return number_steps, trial_prob, data"
      ],
      "execution_count": null,
      "outputs": []
    },
    {
      "cell_type": "code",
      "metadata": {
        "id": "y0GKQGheEv_f",
        "colab_type": "code",
        "colab": {
          "base_uri": "https://localhost:8080/",
          "height": 325,
          "referenced_widgets": [
            "f470322c9d4e41c08e9478b0135bcfe6",
            "28fa3393e1e14ddea0cfb71401ed95ee",
            "fbcd157d076c4051919089dce7b3bae2",
            "56b834a0ef664e6fadcaed8c5b160a0a",
            "d281bae16e484f799af5e3786bbd0b1d",
            "0ad6260b04df4183b273fdf671c361c2",
            "bfdbd6479bde4f55b517bd61b5c9c433",
            "39606821f29c492b9790c4200afcab66"
          ]
        },
        "outputId": "cc1956b3-a874-43e1-d8ab-40cfb2d500ea"
      },
      "source": [
        "n_samples = 1000000\n",
        "n_lenght = 10\n",
        "\n",
        "n_steps, t_prob, data = SAWEarly_montecarlo(n_lenght, n_samples)\n",
        "\n",
        "plt.plot(n_steps, 1/t_prob, 'o')\n",
        "plt.show()"
      ],
      "execution_count": null,
      "outputs": [
        {
          "output_type": "display_data",
          "data": {
            "application/vnd.jupyter.widget-view+json": {
              "model_id": "f470322c9d4e41c08e9478b0135bcfe6",
              "version_minor": 0,
              "version_major": 2
            },
            "text/plain": [
              "HBox(children=(FloatProgress(value=0.0, max=1000000.0), HTML(value='')))"
            ]
          },
          "metadata": {
            "tags": []
          }
        },
        {
          "output_type": "stream",
          "text": [
            "\n"
          ],
          "name": "stdout"
        },
        {
          "output_type": "display_data",
          "data": {
            "image/png": "[encoded data removed]",
            "text/plain": [
              "<Figure size 432x288 with 1 Axes>"
            ]
          },
          "metadata": {
            "tags": [],
            "needs_background": "light"
          }
        }
      ]
    },
    {
      "cell_type": "code",
      "metadata": {
        "id": "WLZjtOK8Holt",
        "colab_type": "code",
        "colab": {
          "base_uri": "https://localhost:8080/",
          "height": 276
        },
        "outputId": "2482b3c3-567b-446b-dc91-93cfbf90e399"
      },
      "source": [
        "plt.plot(n_steps, 1/t_prob/n_samples, 'o')\n",
        "plt.show()"
      ],
      "execution_count": null,
      "outputs": [
        {
          "output_type": "display_data",
          "data": {
            "image/png": "[encoded data removed]",
            "text/plain": [
              "<Figure size 432x288 with 1 Axes>"
            ]
          },
          "metadata": {
            "tags": [],
            "needs_background": "light"
          }
        }
      ]
    },
    {
      "cell_type": "code",
      "metadata": {
        "id": "aylhfT4pHtWr",
        "colab_type": "code",
        "colab": {
          "base_uri": "https://localhost:8080/",
          "height": 34
        },
        "outputId": "42686208-b20d-4be3-f0ff-dd09deda067d"
      },
      "source": [
        "np.sum(1/t_prob/n_samples)"
      ],
      "execution_count": null,
      "outputs": [
        {
          "output_type": "execute_result",
          "data": {
            "text/plain": [
              "1.36707293234189e+21"
            ]
          },
          "metadata": {
            "tags": []
          },
          "execution_count": 45
        }
      ]
    },
    {
      "cell_type": "markdown",
      "metadata": {
        "id": "kVQY2qG4G9iS",
        "colab_type": "text"
      },
      "source": [
        "## 1.3) Favor long walks"
      ]
    },
    {
      "cell_type": "code",
      "metadata": {
        "id": "hvGlo4YXHCPQ",
        "colab_type": "code",
        "colab": {}
      },
      "source": [
        ""
      ],
      "execution_count": null,
      "outputs": []
    },
    {
      "cell_type": "markdown",
      "metadata": {
        "id": "gIvn7Y0g__65",
        "colab_type": "text"
      },
      "source": [
        "--------------------------------------------------------------"
      ]
    },
    {
      "cell_type": "markdown",
      "metadata": {
        "id": "fW6yy1aEbn68",
        "colab_type": "text"
      },
      "source": [
        "To-Do:\n",
        "\n",
        "- [ ] Keep x, y for future plot.\n",
        "- [ ] Apply parallel processing, [website](https://www.machinelearningplus.com/python/parallel-processing-python/)."
      ]
    },
    {
      "cell_type": "markdown",
      "metadata": {
        "id": "HDKgZyeGc88Z",
        "colab_type": "text"
      },
      "source": [
        "Making parallel"
      ]
    },
    {
      "cell_type": "code",
      "metadata": {
        "id": "85GT8yewb2OE",
        "colab_type": "code",
        "colab": {
          "base_uri": "https://localhost:8080/",
          "height": 104
        },
        "outputId": "6bbb9220-0f46-4341-f44b-396175649b8f"
      },
      "source": [
        "import numpy as np\n",
        "from time import time\n",
        "\n",
        "# Prepare data\n",
        "np.random.RandomState(100)\n",
        "arr = np.random.randint(0, 10, size=[200000, 5])\n",
        "data = arr.tolist()\n",
        "data[:5]\n",
        "\n",
        "def howmany_within_range(row, minimum, maximum):\n",
        "    \"\"\"Returns how many numbers lie within `maximum` and `minimum` in a given `row`\"\"\"\n",
        "    count = 0\n",
        "    for n in row:\n",
        "        if minimum <= n <= maximum:\n",
        "            count = count + 1\n",
        "    return count"
      ],
      "execution_count": null,
      "outputs": [
        {
          "output_type": "execute_result",
          "data": {
            "text/plain": [
              "[[7, 7, 3, 6, 2],\n",
              " [4, 2, 9, 3, 2],\n",
              " [5, 6, 8, 0, 4],\n",
              " [3, 6, 2, 5, 8],\n",
              " [6, 2, 5, 1, 3]]"
            ]
          },
          "metadata": {
            "tags": []
          },
          "execution_count": 104
        }
      ]
    },
    {
      "cell_type": "code",
      "metadata": {
        "id": "H05M2A0Nb6XL",
        "colab_type": "code",
        "colab": {
          "base_uri": "https://localhost:8080/",
          "height": 52
        },
        "outputId": "551bd644-781d-4782-f680-01e2ff8ce335"
      },
      "source": [
        "\n",
        "start_time = time()\n",
        "\n",
        "results = []\n",
        "for row in data:\n",
        "    results.append(howmany_within_range(row, minimum=4, maximum=8))\n",
        "\n",
        "print(results[:10])\n",
        "print(f\"--- {time() - start_time} seconds ---\")\n",
        "#> [3, 1, 4, 4, 4, 2, 1, 1, 3, 3]"
      ],
      "execution_count": null,
      "outputs": [
        {
          "output_type": "stream",
          "text": [
            "[3, 1, 4, 3, 2, 2, 2, 1, 2, 2]\n",
            "--- 0.13414549827575684 seconds ---\n"
          ],
          "name": "stdout"
        }
      ]
    },
    {
      "cell_type": "code",
      "metadata": {
        "id": "cO0hNjZNa1sx",
        "colab_type": "code",
        "colab": {
          "base_uri": "https://localhost:8080/",
          "height": 69
        },
        "outputId": "3020c62d-993d-42e6-c902-ac49e184e7ce"
      },
      "source": [
        "import multiprocessing as mp\n",
        "\n",
        "start_time = time()\n",
        "print(\"Number of processors: \", mp.cpu_count())\n",
        "\n",
        "# Parallelizing using Pool.apply()\n",
        "\n",
        "# Step 1: Init multiprocessing.Pool()\n",
        "pool = mp.Pool(mp.cpu_count())\n",
        "\n",
        "# Step 2: `pool.apply` the `howmany_within_range()`\n",
        "results = [pool.apply(howmany_within_range, args=(row, 4, 8)) for row in data]\n",
        "\n",
        "# Step 3: Don't forget to close\n",
        "pool.close()    \n",
        "\n",
        "print(results[:10])\n",
        "print(f\"--- {time() - start_time} seconds ---\")\n",
        "#> [3, 1, 4, 4, 4, 2, 1, 1, 3, 3]"
      ],
      "execution_count": null,
      "outputs": [
        {
          "output_type": "stream",
          "text": [
            "Number of processors:  2\n",
            "[3, 1, 4, 3, 2, 2, 2, 1, 2, 2]\n",
            "--- 40.883756160736084 seconds ---\n"
          ],
          "name": "stdout"
        }
      ]
    },
    {
      "cell_type": "markdown",
      "metadata": {
        "id": "Pt-07LTe87qy",
        "colab_type": "text"
      },
      "source": [
        "# 2) Self-Avoiding Walks without a grid restriction"
      ]
    },
    {
      "cell_type": "code",
      "metadata": {
        "id": "Ii8oHjing1Ye",
        "colab_type": "code",
        "colab": {}
      },
      "source": [
        "def SAW(N):\n",
        "  \n",
        "  def choose_uniformly(x):\n",
        "    \"\"\"Uniform sample from an array.\n",
        "\n",
        "    Parameters\n",
        "    -----------------------------------\n",
        "    x(array): Array that you want to uniformly sample.\n",
        "\n",
        "    Outputs\n",
        "    -----------------------------------\n",
        "    (int): Value sampled.\n",
        "    \"\"\"\n",
        "    n = len(x)\n",
        "    index = np.random.randint(0,high=n)\n",
        "    return x[index]\n",
        "  \n",
        "  x, y = [0], [0]\n",
        "  positions_walked = set([(x[0],y[0])])\n",
        "  is_stuck = False\n",
        "  k_j = []\n",
        "  for i in range(N):\n",
        "    stencil = [(1,0), (0,1), (-1,0), (0,-1)]\n",
        "    possible_steps = []\n",
        "    # Check possible steps on the stencil\n",
        "    for dx, dy in stencil:\n",
        "      if (x[-1] + dx, y[-1] + dy) not in positions_walked:\n",
        "        possible_steps.append((dx,dy))\n",
        "    \n",
        "    # Keep the number of possible choices for each step\n",
        "    k_j.append(len(possible_steps))\n",
        "\n",
        "    # Check if there is any possible step\n",
        "    if possible_steps:\n",
        "      dx, dy = choose_uniformly(possible_steps)\n",
        "      positions_walked.add((x[-1] + dx, y[-1] + dy))\n",
        "      x.append(x[-1] + dx)\n",
        "      y.append(y[-1] + dy)\n",
        "    # If there is no possible step, it is stuck\n",
        "    else:\n",
        "      is_stuck = True\n",
        "      steps_walked = i+1\n",
        "      break\n",
        "\n",
        "    steps_walked = N+1\n",
        "  \n",
        "  \n",
        "  return x, y, is_stuck, steps_walked"
      ],
      "execution_count": 105,
      "outputs": []
    },
    {
      "cell_type": "code",
      "metadata": {
        "id": "hWF2iY4WikX3",
        "colab_type": "code",
        "colab": {
          "base_uri": "https://localhost:8080/",
          "height": 300
        },
        "outputId": "27a24765-abec-4714-8560-064126367131"
      },
      "source": [
        "x,y, is_stuck, steps_walked = SAW(100)\n",
        "print(\"Is stuck?\", is_stuck)\n",
        "print(steps_walked)\n",
        "plt.plot(x,y, 'o-')\n",
        "plt.show()"
      ],
      "execution_count": 106,
      "outputs": [
        {
          "output_type": "stream",
          "text": [
            "Is stuck? True\n",
            "24\n"
          ],
          "name": "stdout"
        },
        {
          "output_type": "display_data",
          "data": {
            "image/png": "[encoded data removed]",
            "text/plain": [
              "<Figure size 432x288 with 1 Axes>"
            ]
          },
          "metadata": {
            "tags": [],
            "needs_background": "light"
          }
        }
      ]
    }
  ]
}