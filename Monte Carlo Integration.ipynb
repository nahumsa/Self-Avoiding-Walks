{
  "nbformat": 4,
  "nbformat_minor": 0,
  "metadata": {
    "colab": {
      "name": "Monte Carlo Integration.ipynb",
      "provenance": [],
      "collapsed_sections": [],
      "authorship_tag": "ABX9TyO5cwoozum6zgzfZybv8hT9",
      "include_colab_link": true
    },
    "kernelspec": {
      "name": "python3",
      "display_name": "Python 3"
    }
  },
  "cells": [
    {
      "cell_type": "markdown",
      "metadata": {
        "id": "view-in-github",
        "colab_type": "text"
      },
      "source": [
        "<a href=\"https://colab.research.google.com/github/nahumsa/Self-Avoiding-Walks/blob/master/Monte%20Carlo%20Integration.ipynb\" target=\"_parent\"><img src=\"https://colab.research.google.com/assets/colab-badge.svg\" alt=\"Open In Colab\"/></a>"
      ]
    },
    {
      "cell_type": "markdown",
      "metadata": {
        "id": "96kO0SJOcssT",
        "colab_type": "text"
      },
      "source": [
        "# Monte Carlo Integration\n",
        "\n",
        "In Monte Carlo Integration we sample from an interval $\\{a,b\\}$ and see if it is inside the region between the function and the x axis, if this condition is satisfied we accept the sample, otherwise we discart the sample.\n",
        "\n",
        "Consider that you want to estimate the following integral:\n",
        "\n",
        "$$\n",
        "\\int_a^b f(x) dx\n",
        "$$\n",
        "\n",
        "The procedure can be summarized as follows: \n",
        "\n",
        "- 1) Draw a uniform sample from the interval $x \\sim \\{a,b\\}$ and a uniform sample from $y \\sim \\{0, \\max (f(\\{a,b\\})\\}$, where $\\max (f(\\{a,b\\})$ is the maximum value of the function inside the interval $\\{a, b\\}$ ;\n",
        "\n",
        "- 2) Evaluate f(x) and if $f(x) > y$ discard the sample, otherwise accept the sample.\n",
        "\n",
        "On average you will have the number of samples that satisfies your constraints, then you take the average and multiply for the area of your given interval:\n",
        "\n",
        "$$\n",
        "A = (\\max (f(\\{a,b\\})\\} - 0)*(b-a)\n",
        "$$\n",
        "\n",
        "Thus:\n",
        "\n",
        "$$\n",
        "\\int_a^b f(x) dx = A* \\mathbb{E}(\\mathrm{Accepted \\ counts})\n",
        "$$\n"
      ]
    },
    {
      "cell_type": "code",
      "metadata": {
        "id": "Tqf7qrrEc7Zm",
        "colab_type": "code",
        "colab": {}
      },
      "source": [
        "import numpy as np\n",
        "import matplotlib.pyplot as plt\n",
        "from tqdm import tqdm"
      ],
      "execution_count": 13,
      "outputs": []
    },
    {
      "cell_type": "code",
      "metadata": {
        "id": "kJgWG_L_Qdof",
        "colab_type": "code",
        "colab": {}
      },
      "source": [
        "def mc_integration(x_init, x_final, func, n=100000):\n",
        "  \"\"\" Function to do monte carlo integration for \n",
        "      n samples.\n",
        "\n",
        "  Parameters\n",
        "  -----------------------------------------------\n",
        "  x_init(float): Starting point of integration.\n",
        "  x_final(float): Ending point of integration.\n",
        "  func(function): Python function that you want to integrate.\n",
        "  n(int): Number of samples.\n",
        "\n",
        "  \"\"\"\n",
        "\n",
        "  X = np.linspace(x_init, x_final, 1000)\n",
        "  y1 = 0\n",
        "  # Overshoot by 1 for convergence\n",
        "  y2 = max((func(X))) + 1\n",
        "      \n",
        "  area = (x_final-x_init)*(y2-y1)\n",
        "  check = []\n",
        "  xs = []\n",
        "  ys = []\n",
        "\n",
        "  for _ in range(n):\n",
        "      \n",
        "      # Generate Samples\n",
        "      x = np.random.uniform(x_init,x_final,1)\n",
        "      xs.append(float(x))\n",
        "      \n",
        "      y = np.random.uniform(y1,y2,1)\n",
        "      ys.append(float(y))\n",
        "      \n",
        "      # Reject\n",
        "      if abs(y) > abs(func(x)) or y<0:\n",
        "          check.append(0)\n",
        "      \n",
        "      # Accept\n",
        "      else:\n",
        "          check.append(1)\n",
        "\n",
        "  return np.mean(check)*area, xs, ys, check"
      ],
      "execution_count": 4,
      "outputs": []
    },
    {
      "cell_type": "markdown",
      "metadata": {
        "id": "34jgFlf57uJ5",
        "colab_type": "text"
      },
      "source": [
        "## Application 1: $$f(x) = \\sin x$$\n",
        "Let's try with a simple function: \n",
        "\n",
        "$$\n",
        "f(x) = \\sin x\n",
        "$$\n",
        "\n",
        "And compare with the integration used on scipy."
      ]
    },
    {
      "cell_type": "code",
      "metadata": {
        "id": "MshRXTY3QQL6",
        "colab_type": "code",
        "colab": {}
      },
      "source": [
        "def f(x):\n",
        "  return np.sin(x)"
      ],
      "execution_count": 5,
      "outputs": []
    },
    {
      "cell_type": "code",
      "metadata": {
        "id": "BAoavSqSQpFH",
        "colab_type": "code",
        "colab": {
          "base_uri": "https://localhost:8080/",
          "height": 69
        },
        "outputId": "292431b1-1c2c-414d-9001-f09df3215a33"
      },
      "source": [
        "from scipy.integrate import quad\n",
        "\n",
        "a = 0.3\n",
        "b = 2.5\n",
        "\n",
        "sol, xs, ys, check = mc_integration(a, b, f, n=1000000)\n",
        "id_sol, _ = quad(f, a, b)\n",
        "\n",
        "print(f'Monte Carlo Solution: {sol}')\n",
        "print(f'Quad Solution: {id_sol}')\n",
        "print(f'Error: {np.square(sol - id_sol)}')"
      ],
      "execution_count": 6,
      "outputs": [
        {
          "output_type": "stream",
          "text": [
            "Monte Carlo Solution: 1.7552919930712214\n",
            "Quad Solution: 1.7564801046725398\n",
            "Error: 1.4116091771873149e-06\n"
          ],
          "name": "stdout"
        }
      ]
    },
    {
      "cell_type": "markdown",
      "metadata": {
        "id": "tiVMleMF8JZr",
        "colab_type": "text"
      },
      "source": [
        "Let's see what is happening when we are doing this procedure, the red dots are rejected and blue dots are accepted and we have the plot of our function in blue.\n",
        "\n",
        "We see that we sampled a lot of points in this interval such that we almost filled the area."
      ]
    },
    {
      "cell_type": "code",
      "metadata": {
        "id": "hqmaQrCQkcRd",
        "colab_type": "code",
        "colab": {
          "base_uri": "https://localhost:8080/",
          "height": 265
        },
        "outputId": "94458dcb-fd4e-46d2-be15-f4b50d973983"
      },
      "source": [
        "check = np.array(check)\n",
        "xs = np.array(xs)\n",
        "ys = np.array(ys)\n",
        "plt.plot(xs[check == 0], ys[check == 0], 'ro', label='Rejected')\n",
        "plt.plot(xs[check == 1], ys[check == 1], 'go', label='Accepted')\n",
        "x = np.linspace(a,b, 100000)\n",
        "\n",
        "plt.plot(x, f(x), label='Function', linewidth=6)\n",
        "plt.legend()\n",
        "plt.show()"
      ],
      "execution_count": 8,
      "outputs": [
        {
          "output_type": "display_data",
          "data": {
            "image/png": "[encoded data removed]",
            "text/plain": [
              "<Figure size 432x288 with 1 Axes>"
            ]
          },
          "metadata": {
            "tags": [],
            "needs_background": "light"
          }
        }
      ]
    },
    {
      "cell_type": "markdown",
      "metadata": {
        "id": "XHVRRk078Cy8",
        "colab_type": "text"
      },
      "source": [
        "Let's check the convergence of our method"
      ]
    },
    {
      "cell_type": "code",
      "metadata": {
        "id": "C-ZC5ghc8gdi",
        "colab_type": "code",
        "colab": {}
      },
      "source": [
        "err = []\n",
        "\n",
        "n = np.linspace(10, 10000, 100)\n",
        "\n",
        "for i in tqdm(n):  \n",
        "  sol, *_ = mc_integration(a, b, f, n=int(i))\n",
        "  err.append(np.square(sol - id_sol))"
      ],
      "execution_count": null,
      "outputs": []
    },
    {
      "cell_type": "code",
      "metadata": {
        "id": "jPU9_RJg8wcS",
        "colab_type": "code",
        "colab": {
          "base_uri": "https://localhost:8080/",
          "height": 305
        },
        "outputId": "3b774289-7373-4fb1-c221-d402cb0a978a"
      },
      "source": [
        "plt.plot(n, err)\n",
        "plt.title(\"Convergence\", size=20)\n",
        "plt.xlabel(\"Number of Samples\", size=16)\n",
        "plt.ylabel(\"Error\", size=16)\n",
        "plt.show()"
      ],
      "execution_count": 19,
      "outputs": [
        {
          "output_type": "display_data",
          "data": {
            "image/png": "[encoded data removed]",
            "text/plain": [
              "<Figure size 432x288 with 1 Axes>"
            ]
          },
          "metadata": {
            "tags": [],
            "needs_background": "light"
          }
        }
      ]
    },
    {
      "cell_type": "markdown",
      "metadata": {
        "id": "FgfnC2bo-EK0",
        "colab_type": "text"
      },
      "source": [
        "## Application 2: $$f(x) = \\frac{\\sin x}{x^2}$$"
      ]
    },
    {
      "cell_type": "code",
      "metadata": {
        "colab_type": "code",
        "id": "kTVamWhR_Cv_",
        "colab": {}
      },
      "source": [
        "def f(x):\n",
        "  return np.sin(x)/(x**2)"
      ],
      "execution_count": 30,
      "outputs": []
    },
    {
      "cell_type": "code",
      "metadata": {
        "colab_type": "code",
        "id": "eNQPJopr_CwF",
        "colab": {
          "base_uri": "https://localhost:8080/",
          "height": 69
        },
        "outputId": "2b420f01-9dcb-48ca-a780-3a0baabd8b44"
      },
      "source": [
        "from scipy.integrate import quad\n",
        "\n",
        "a = 0.3\n",
        "b = 5\n",
        "\n",
        "sol, xs, ys, check = mc_integration(a, b, f, n=1000000)\n",
        "id_sol, _ = quad(f, a, b)\n",
        "\n",
        "print(f'Monte Carlo Solution: {sol}')\n",
        "print(f'Quad Solution: {id_sol}')\n",
        "print(f'Error: {np.square(sol - id_sol)}')"
      ],
      "execution_count": 31,
      "outputs": [
        {
          "output_type": "stream",
          "text": [
            "Monte Carlo Solution: 1.773632401526077\n",
            "Quad Solution: 1.635995393784945\n",
            "Error: 0.01894394589993242\n"
          ],
          "name": "stdout"
        }
      ]
    },
    {
      "cell_type": "markdown",
      "metadata": {
        "colab_type": "text",
        "id": "lq5MXx9g_CwN"
      },
      "source": [
        "Let's see what is happening when we are doing this procedure, the red dots are rejected and blue dots are accepted and we have the plot of our function in blue.\n",
        "\n",
        "We see that we sampled a lot of points in this interval such that we almost filled the area."
      ]
    },
    {
      "cell_type": "code",
      "metadata": {
        "colab_type": "code",
        "id": "vYWlYBRA_CwO",
        "colab": {
          "base_uri": "https://localhost:8080/",
          "height": 265
        },
        "outputId": "0408c938-4ff7-4cf7-a3c7-ca6d97e0fa36"
      },
      "source": [
        "check = np.array(check)\n",
        "xs = np.array(xs)\n",
        "ys = np.array(ys)\n",
        "plt.plot(xs[check == 0], ys[check == 0], 'ro', label='Rejected')\n",
        "plt.plot(xs[check == 1], ys[check == 1], 'go', label='Accepted')\n",
        "x = np.linspace(a, b, 100000)\n",
        "\n",
        "plt.plot(x, f(x), label='Function', linewidth=6)\n",
        "plt.legend()\n",
        "plt.show()"
      ],
      "execution_count": 32,
      "outputs": [
        {
          "output_type": "display_data",
          "data": {
            "image/png": "[encoded data removed]",
            "text/plain": [
              "<Figure size 432x288 with 1 Axes>"
            ]
          },
          "metadata": {
            "tags": [],
            "needs_background": "light"
          }
        }
      ]
    },
    {
      "cell_type": "markdown",
      "metadata": {
        "colab_type": "text",
        "id": "oTCoqaB0_CwS"
      },
      "source": [
        "Let's check the convergence of our method"
      ]
    },
    {
      "cell_type": "code",
      "metadata": {
        "colab_type": "code",
        "id": "4ygH9S4x_CwT",
        "colab": {
          "base_uri": "https://localhost:8080/",
          "height": 34
        },
        "outputId": "87a336bc-47c9-4264-a874-53b6db96ea2b"
      },
      "source": [
        "err = []\n",
        "\n",
        "n = np.linspace(10, 10000, 100)\n",
        "\n",
        "for i in tqdm(n):  \n",
        "  sol, *_ = mc_integration(a, b, f, n=int(i))\n",
        "  err.append(np.square(sol - id_sol))"
      ],
      "execution_count": 35,
      "outputs": [
        {
          "output_type": "stream",
          "text": [
            "100%|██████████| 100/100 [00:06<00:00, 15.33it/s]\n"
          ],
          "name": "stderr"
        }
      ]
    },
    {
      "cell_type": "code",
      "metadata": {
        "colab_type": "code",
        "id": "A6LqCfY4_CwX",
        "colab": {
          "base_uri": "https://localhost:8080/",
          "height": 305
        },
        "outputId": "2e39b213-9b06-455e-8a57-8c53837715cb"
      },
      "source": [
        "plt.plot(n, err)\n",
        "plt.title(\"Convergence\", size=20)\n",
        "plt.xlabel(\"Number of Samples\", size=16)\n",
        "plt.ylabel(\"Error\", size=16)\n",
        "plt.show()"
      ],
      "execution_count": 36,
      "outputs": [
        {
          "output_type": "display_data",
          "data": {
            "image/png": "[encoded data removed]",
            "text/plain": [
              "<Figure size 432x288 with 1 Axes>"
            ]
          },
          "metadata": {
            "tags": [],
            "needs_background": "light"
          }
        }
      ]
    },
    {
      "cell_type": "markdown",
      "metadata": {
        "id": "n9z6PkRq--tW",
        "colab_type": "text"
      },
      "source": [
        "# Conclusion"
      ]
    },
    {
      "cell_type": "markdown",
      "metadata": {
        "id": "Kbfy8Rhgl7-a",
        "colab_type": "text"
      },
      "source": [
        "By learning the method of Monte Carlo Integration you have learned a powerful tool that can be generalized for other problems such as Sequential Monte Carlo and Markov Chain Monte Carlo (MCMC)."
      ]
    }
  ]
}