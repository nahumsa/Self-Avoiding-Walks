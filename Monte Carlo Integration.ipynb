{
  "nbformat": 4,
  "nbformat_minor": 0,
  "metadata": {
    "colab": {
      "name": "Monte Carlo Integration.ipynb",
      "provenance": [],
      "collapsed_sections": [],
      "authorship_tag": "ABX9TyPCUxHr9X2kXugHtMF9RTrw",
      "include_colab_link": true
    },
    "kernelspec": {
      "name": "python3",
      "display_name": "Python 3"
    }
  },
  "cells": [
    {
      "cell_type": "markdown",
      "metadata": {
        "id": "view-in-github",
        "colab_type": "text"
      },
      "source": [
        "<a href=\"https://colab.research.google.com/github/nahumsa/Self-Avoiding-Walks/blob/master/Monte%20Carlo%20Integration.ipynb\" target=\"_parent\"><img src=\"https://colab.research.google.com/assets/colab-badge.svg\" alt=\"Open In Colab\"/></a>"
      ]
    },
    {
      "cell_type": "markdown",
      "metadata": {
        "id": "96kO0SJOcssT",
        "colab_type": "text"
      },
      "source": [
        "# Monte Carlo Integration\n",
        "\n",
        "In Monte Carlo Integration we sample from an interval $\\{a,b\\}$ and see if it is inside the region between the function and the x axis, if this condition is satisfied we accept the sample, otherwise we discart the sample.\n",
        "\n",
        "Consider that you want to estimate the following integral:\n",
        "\n",
        "$$\n",
        "\\int_a^b f(x) dx\n",
        "$$\n",
        "\n",
        "The procedure can be summarized as follows: \n",
        "\n",
        "- 1) Draw a uniform sample from the interval $x \\sim \\{a,b\\}$ and a uniform sample from $y \\sim \\{0, \\max (f(\\{a,b\\})\\}$. ;\n",
        "\n",
        "- 2) Evaluate f(x) and if $f(x) > y$ discart the sample, otherwise accept the sample.\n",
        "\n",
        "On average you will have the number of samples that satisfies your constraints, then you take the average and multiply for the area of your given interval:\n",
        "\n",
        "$$\n",
        "A = (\\max (f(\\{a,b\\})\\} - 0)*(b-a)\n",
        "$$\n",
        "\n",
        "Thus:\n",
        "\n",
        "$$\n",
        "\\int_a^b f(x) dx = A* \\mathbb{E}(\\mathrm{Accepted \\ counts})\n",
        "$$\n",
        "\n",
        "\n",
        "Reference: [link](http://barnesanalytics.com/monte-carlo-integration-in-python)"
      ]
    },
    {
      "cell_type": "code",
      "metadata": {
        "id": "Tqf7qrrEc7Zm",
        "colab_type": "code",
        "colab": {}
      },
      "source": [
        "import numpy as np\n",
        "import matplotlib.pyplot as plt\n",
        "import pandas as pd"
      ],
      "execution_count": 1,
      "outputs": []
    },
    {
      "cell_type": "code",
      "metadata": {
        "id": "MshRXTY3QQL6",
        "colab_type": "code",
        "colab": {}
      },
      "source": [
        "def f(x):\n",
        "  return np.sin(x)"
      ],
      "execution_count": 48,
      "outputs": []
    },
    {
      "cell_type": "code",
      "metadata": {
        "id": "kJgWG_L_Qdof",
        "colab_type": "code",
        "colab": {}
      },
      "source": [
        "def mc_integration(x_init, x_final, func, n=100000):\n",
        "  \"\"\" Function to do monte carlo integration for \n",
        "      n samples.\n",
        "\n",
        "  Parameters\n",
        "  -----------------------------------------------\n",
        "  x_init(float): Starting point of integration.\n",
        "  x_final(float): Ending point of integration.\n",
        "  func(function): Python function that you want to integrate.\n",
        "  n(int): Number of samples.\n",
        "\n",
        "  \"\"\"\n",
        "\n",
        "  X = np.linspace(x_init, x_final, 1000)\n",
        "  y1 = 0\n",
        "  # Overshoot by 1 for convergence\n",
        "  y2 = max((func(X))) + 1\n",
        "      \n",
        "  area = (x_final-x_init)*(y2-y1)\n",
        "  check = []\n",
        "  xs = []\n",
        "  ys = []\n",
        "\n",
        "  for _ in range(n):\n",
        "      \n",
        "      # Generate Samples\n",
        "      x = np.random.uniform(x_init,x_final,1)\n",
        "      xs.append(float(x))\n",
        "      \n",
        "      y = np.random.uniform(y1,y2,1)\n",
        "      ys.append(float(y))\n",
        "      \n",
        "      # Reject\n",
        "      if abs(y) > abs(func(x)) or y<0:\n",
        "          check.append(0)\n",
        "      \n",
        "      # Accept\n",
        "      else:\n",
        "          check.append(1)\n",
        "\n",
        "  return np.mean(check)*area, xs, ys, check"
      ],
      "execution_count": 58,
      "outputs": []
    },
    {
      "cell_type": "code",
      "metadata": {
        "id": "BAoavSqSQpFH",
        "colab_type": "code",
        "colab": {
          "base_uri": "https://localhost:8080/",
          "height": 69
        },
        "outputId": "a803cfde-2a48-436c-aba6-11145072fecc"
      },
      "source": [
        "from scipy.integrate import quad\n",
        "\n",
        "a = 0.3\n",
        "b = 2.5\n",
        "\n",
        "sol, xs, ys, check = mc_integration(a, b, f)\n",
        "id_sol, _ = quad(f, a, b)\n",
        "\n",
        "print(f'Monte Carlo Solution: {sol}')\n",
        "print(f'Quad Solution: {id_sol}')\n",
        "print(f'Error: {np.square(sol - id_sol)}')"
      ],
      "execution_count": 59,
      "outputs": [
        {
          "output_type": "stream",
          "text": [
            "Monte Carlo Solution: 1.758591993058195\n",
            "Quad Solution: 1.7564801046725398\n",
            "Error: 4.46007255346548e-06\n"
          ],
          "name": "stdout"
        }
      ]
    },
    {
      "cell_type": "code",
      "metadata": {
        "id": "hqmaQrCQkcRd",
        "colab_type": "code",
        "colab": {
          "base_uri": "https://localhost:8080/",
          "height": 265
        },
        "outputId": "c70c0548-cd68-438c-da05-518d120e419f"
      },
      "source": [
        "check = np.array(check)\n",
        "xs = np.array(xs)\n",
        "ys = np.array(ys)\n",
        "plt.plot(xs[check == 0], ys[check == 0], 'ro', label='Rejected')\n",
        "plt.plot(xs[check == 1], ys[check == 1], 'go', label='Accepted')\n",
        "x = np.linspace(a,b, 100000)\n",
        "plt.plot(x, f(x), label='Function', linewidth=6)\n",
        "plt.legend()\n",
        "plt.show()"
      ],
      "execution_count": 60,
      "outputs": [
        {
          "output_type": "display_data",
          "data": {
            "image/png": "[encoded data removed]",
            "text/plain": [
              "<Figure size 432x288 with 1 Axes>"
            ]
          },
          "metadata": {
            "tags": [],
            "needs_background": "light"
          }
        }
      ]
    }
  ]
}